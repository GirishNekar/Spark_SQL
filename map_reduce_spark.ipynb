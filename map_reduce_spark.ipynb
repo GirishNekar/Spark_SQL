{
 "cells": [
  {
   "cell_type": "markdown",
   "metadata": {},
   "source": [
    "@Author: Girish <br>\n",
    "@Date: 2024-09-08 <br>\n",
    "@Last Modified by: Girish <br>\n",
    "@Last Modified: 2024-09-08 <br>\n",
    "@Title : Map Reduce by Spark<br>"
   ]
  },
  {
   "cell_type": "code",
   "execution_count": 18,
   "metadata": {},
   "outputs": [],
   "source": [
    "from pyspark.sql import SparkSession\n",
    "\n",
    "spark = SparkSession.builder.appName(\"MapReduceExample\").getOrCreate()\n",
    "\n",
    "file_path = r\"file:///D:\\Apexon_python\\twinkle.txt\"\n",
    "rdd = spark.sparkContext.textFile(file_path)\n",
    "\n",
    "\n",
    "words_rdd = rdd.flatMap(lambda line: line.split(\" \"))\n",
    "\n",
    "word_pairs_rdd = words_rdd.map(lambda word: (word, 1))\n",
    "\n",
    "word_counts_rdd = word_pairs_rdd.reduceByKey(lambda a, b: a + b)\n",
    "\n",
    "word_counts = word_counts_rdd.collect()\n",
    "for word, count in word_counts:\n",
    "    print(f\"{word}: {count}\")\n",
    "\n",
    "spark.stop()\n"
   ]
  }
 ],
 "metadata": {
  "kernelspec": {
   "display_name": "Python 3",
   "language": "python",
   "name": "python3"
  },
  "language_info": {
   "codemirror_mode": {
    "name": "ipython",
    "version": 3
   },
   "file_extension": ".py",
   "mimetype": "text/x-python",
   "name": "python",
   "nbconvert_exporter": "python",
   "pygments_lexer": "ipython3",
   "version": "3.8.8rc1"
  }
 },
 "nbformat": 4,
 "nbformat_minor": 2
}
