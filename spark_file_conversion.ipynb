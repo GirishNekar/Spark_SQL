{
 "cells": [
  {
   "cell_type": "markdown",
   "metadata": {},
   "source": [
    "@Author: Girish <br>\n",
    "@Date: 2024-09-08 <br>\n",
    "@Last Modified by: Girish <br>\n",
    "@Last Modified: 2024-09-08 <br>\n",
    "@Title :File conversion <br>"
   ]
  },
  {
   "cell_type": "markdown",
   "metadata": {},
   "source": [
    "1 Text file to Json File\n"
   ]
  },
  {
   "cell_type": "code",
   "execution_count": 7,
   "metadata": {},
   "outputs": [],
   "source": [
    "from pyspark.sql import SparkSession\n",
    "\n",
    "spark = SparkSession.builder.appName(\"PoemToJson\").getOrCreate()\n",
    "\n",
    "file_path = r\"file:///D:\\Apexon_python\\twinkle.txt\"\n",
    "df = spark.read.text(file_path)\n",
    "\n",
    "df = df.withColumnRenamed(\"value\", \"line\")\n",
    "\n",
    "output_path = r\"file:///D:\\Apexon_python\\Converted_Files\\poem_output1.json\"\n",
    "x = df.write.json(output_path)\n",
    "\n",
    "\n",
    "spark.stop()"
   ]
  },
  {
   "cell_type": "markdown",
   "metadata": {},
   "source": [
    "csv to json file "
   ]
  },
  {
   "cell_type": "code",
   "execution_count": 9,
   "metadata": {},
   "outputs": [],
   "source": [
    "spark = SparkSession.builder.appName(\"CsvToJson\").getOrCreate()\n",
    "\n",
    "file_path = r\"file:///D:\\Apexon_python\\Spark_Practice\\covid_19_clean_complete.csv\"\n",
    "df = spark.read.csv(file_path, header = True , inferSchema= True)\n",
    "\n",
    "\n",
    "output_path = r\"file:///D:\\Apexon_python\\Converted_Files\\csv_to_json.json\"\n",
    "df.write.json(output_path)\n",
    "spark.stop()"
   ]
  },
  {
   "cell_type": "markdown",
   "metadata": {},
   "source": [
    "Json to csv"
   ]
  },
  {
   "cell_type": "code",
   "execution_count": 11,
   "metadata": {},
   "outputs": [],
   "source": [
    "spark = SparkSession.builder.appName(\"JSONtoCSV\").getOrCreate()\n",
    "\n",
    "file_path = r\"file:///D:\\Apexon_python\\Converted_Files\\csv_to_json.json\"\n",
    "df = spark.read.json(file_path)\n",
    "\n",
    "output_path = r\"file:///D:\\Apexon_python\\Converted_Files\\json_to_csv.csv\"\n",
    "df.write.csv(output_path, header=True)\n",
    "\n",
    "spark.stop()"
   ]
  },
  {
   "cell_type": "markdown",
   "metadata": {},
   "source": [
    "csv to text"
   ]
  },
  {
   "cell_type": "code",
   "execution_count": 13,
   "metadata": {},
   "outputs": [],
   "source": [
    "from pyspark.sql.functions import concat_ws\n",
    "\n",
    "spark = SparkSession.builder.appName(\"CSVtoText\").getOrCreate()\n",
    "\n",
    "file_path = r\"file:///D:\\Apexon_python\\Spark_Practice\\covid_19_clean_complete.csv\"\n",
    "df = spark.read.csv(file_path, header=True, inferSchema=True)\n",
    "\n",
    "df_combined = df.select(concat_ws(\", \", *df.columns).alias(\"csv_line\"))\n",
    "\n",
    "output_path = r\"file:///D:\\Apexon_python\\Converted_Files\\csv_to_txt.txt\"\n",
    "df_combined.write.mode(\"overwrite\").text(output_path)\n",
    "\n",
    "spark.stop()"
   ]
  }
 ],
 "metadata": {
  "kernelspec": {
   "display_name": "Python 3",
   "language": "python",
   "name": "python3"
  },
  "language_info": {
   "codemirror_mode": {
    "name": "ipython",
    "version": 3
   },
   "file_extension": ".py",
   "mimetype": "text/x-python",
   "name": "python",
   "nbconvert_exporter": "python",
   "pygments_lexer": "ipython3",
   "version": "3.8.8rc1"
  }
 },
 "nbformat": 4,
 "nbformat_minor": 2
}
